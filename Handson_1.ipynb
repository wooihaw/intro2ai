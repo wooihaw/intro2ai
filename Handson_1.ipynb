{
 "cells": [
  {
   "cell_type": "markdown",
   "metadata": {
    "colab_type": "text",
    "id": "view-in-github"
   },
   "source": [
    "<a href=\"https://colab.research.google.com/github/wooihaw/intro2ai/blob/master/Handson_1.ipynb\" target=\"_parent\"><img src=\"https://colab.research.google.com/assets/colab-badge.svg\" alt=\"Open In Colab\"/></a>"
   ]
  },
  {
   "cell_type": "markdown",
   "metadata": {
    "colab_type": "text",
    "id": "SqTvcV8bZzhr"
   },
   "source": [
    "## This is a 'Hello World' example for supervised machine learning\n",
    "\n",
    "### In this example, we are going to train 2 supervised machine learning models using the Iris flower dataset.\n",
    "\n",
    "<img src=\"https://miro.medium.com/max/1400/0*SHhnoaaIm36pc1bd\" alt=\"Iris flower dataset\" width=\"640\">"
   ]
  },
  {
   "cell_type": "code",
   "execution_count": null,
   "metadata": {
    "colab": {},
    "colab_type": "code",
    "id": "u19h5618Zzhs"
   },
   "outputs": [],
   "source": [
    "# Import the relevant Python modules\n",
    "from pandas import read_csv\n",
    "from sklearn.neighbors import KNeighborsClassifier\n",
    "from sklearn.tree import DecisionTreeClassifier\n",
    "from sklearn.model_selection import train_test_split as split"
   ]
  },
  {
   "cell_type": "code",
   "execution_count": null,
   "metadata": {
    "colab": {},
    "colab_type": "code",
    "id": "Xk32dGSYaQO9"
   },
   "outputs": [],
   "source": [
    "# Download dataset\n",
    "!wget https://raw.githubusercontent.com/wooihaw/datasets/main/iris.csv"
   ]
  },
  {
   "cell_type": "code",
   "execution_count": null,
   "metadata": {
    "colab": {},
    "colab_type": "code",
    "id": "P3Nl0HKgZzhx"
   },
   "outputs": [],
   "source": [
    "# Load the dataset & preview first 5 rows\n",
    "df = read_csv('iris.csv')\n",
    "df.head()"
   ]
  },
  {
   "cell_type": "code",
   "execution_count": null,
   "metadata": {
    "colab": {},
    "colab_type": "code",
    "id": "kmgtvsJgZzh0"
   },
   "outputs": [],
   "source": [
    "# Break dataset into input & output\n",
    "X = df.values[:, :-1]\n",
    "y = df.values[:, -1]\n"
   ]
  },
  {
   "cell_type": "code",
   "execution_count": null,
   "metadata": {
    "colab": {},
    "colab_type": "code",
    "id": "rIfLm4sVZzh3"
   },
   "outputs": [],
   "source": [
    "# Split data into training and test sets\n",
    "X_train, X_test, y_train, y_test = split(X, y, test_size=0.25, random_state=41)\n",
    "print(f'X_train size: {X_train.shape}, X_test size: {X_test.shape}')"
   ]
  },
  {
   "cell_type": "code",
   "execution_count": null,
   "metadata": {
    "colab": {},
    "colab_type": "code",
    "id": "5A1AIcw9Zzh5"
   },
   "outputs": [],
   "source": [
    "# Train a k-nearest neighbor (knn) classifier with k=3 using the training set\n",
    "knn = KNeighborsClassifier(n_neighbors=3).fit(X_train, y_train)\n",
    "print(knn)"
   ]
  },
  {
   "cell_type": "code",
   "execution_count": null,
   "metadata": {
    "colab": {},
    "colab_type": "code",
    "id": "emh5aEn9Zzh8"
   },
   "outputs": [],
   "source": [
    "# Evaluate the performance of the trained model using the test set\n",
    "print(f'Accuracy: {knn.score(X_test, y_test) * 100}%')"
   ]
  },
  {
   "cell_type": "code",
   "execution_count": null,
   "metadata": {
    "colab": {},
    "colab_type": "code",
    "id": "sCDkeJYRZzh_"
   },
   "outputs": [],
   "source": [
    "# Make prediction on one of the data samples using knn\n",
    "n = 11\n",
    "print(f'Predicted: {knn.predict([X_test[n]])}')\n",
    "print(f'Actual: {y_test[n]}')"
   ]
  },
  {
   "cell_type": "code",
   "execution_count": null,
   "metadata": {
    "colab": {},
    "colab_type": "code",
    "id": "MwsebzjYZziC"
   },
   "outputs": [],
   "source": [
    "# Train and evaluate a decision tree classifier\n",
    "# Please fill in the missing Python codes\n"
   ]
  },
  {
   "cell_type": "code",
   "execution_count": null,
   "metadata": {
    "colab": {},
    "colab_type": "code",
    "id": "A-JeWgAZZziE"
   },
   "outputs": [],
   "source": [
    "# Make prediction on one of the data samples using decision tree classifier\n",
    "# Please fill in the missing Python codes\n"
   ]
  }
 ],
 "metadata": {
  "colab": {
   "collapsed_sections": [],
   "include_colab_link": true,
   "name": "Handson-1.ipynb",
   "provenance": [],
   "toc_visible": true
  },
  "kernelspec": {
   "display_name": "Python 3",
   "language": "python",
   "name": "python3"
  },
  "language_info": {
   "codemirror_mode": {
    "name": "ipython",
    "version": 3
   },
   "file_extension": ".py",
   "mimetype": "text/x-python",
   "name": "python",
   "nbconvert_exporter": "python",
   "pygments_lexer": "ipython3",
   "version": "3.8.5"
  }
 },
 "nbformat": 4,
 "nbformat_minor": 1
}
