{
  "nbformat": 4,
  "nbformat_minor": 0,
  "metadata": {
    "kernelspec": {
      "display_name": "Python 3",
      "language": "python",
      "name": "python3"
    },
    "language_info": {
      "codemirror_mode": {
        "name": "ipython",
        "version": 3
      },
      "file_extension": ".py",
      "mimetype": "text/x-python",
      "name": "python",
      "nbconvert_exporter": "python",
      "pygments_lexer": "ipython3",
      "version": "3.7.7"
    },
    "colab": {
      "name": "Handson-1.ipynb",
      "provenance": [],
      "collapsed_sections": [],
      "toc_visible": true,
      "include_colab_link": true
    }
  },
  "cells": [
    {
      "cell_type": "markdown",
      "metadata": {
        "id": "view-in-github",
        "colab_type": "text"
      },
      "source": [
        "<a href=\"https://colab.research.google.com/github/wooihaw/intro2ai/blob/master/Handson_1.ipynb\" target=\"_parent\"><img src=\"https://colab.research.google.com/assets/colab-badge.svg\" alt=\"Open In Colab\"/></a>"
      ]
    },
    {
      "cell_type": "markdown",
      "metadata": {
        "id": "SqTvcV8bZzhr",
        "colab_type": "text"
      },
      "source": [
        "## This is a 'Hello World' example for supervised machine learning\n",
        "\n",
        "### In this example, we are going to train 2 supervised machine learning models using the Iris flower dataset.\n",
        "\n",
        "<img src=\"https://miro.medium.com/max/1400/0*SHhnoaaIm36pc1bd\" alt=\"Iris flower dataset\" width=\"640\">"
      ]
    },
    {
      "cell_type": "code",
      "metadata": {
        "id": "u19h5618Zzhs",
        "colab_type": "code",
        "colab": {}
      },
      "source": [
        "# Import the relevant Python modules\n",
        "from pandas import read_csv\n",
        "from sklearn.neighbors import KNeighborsClassifier\n",
        "from sklearn.tree import DecisionTreeClassifier\n",
        "from sklearn.model_selection import train_test_split as split"
      ],
      "execution_count": null,
      "outputs": []
    },
    {
      "cell_type": "code",
      "metadata": {
        "id": "Xk32dGSYaQO9",
        "colab_type": "code",
        "colab": {}
      },
      "source": [
        "!git clone https://github.com/wooihaw/intro2ai.git"
      ],
      "execution_count": null,
      "outputs": []
    },
    {
      "cell_type": "code",
      "metadata": {
        "id": "P3Nl0HKgZzhx",
        "colab_type": "code",
        "colab": {}
      },
      "source": [
        "# Load the dataset\n",
        "df = read_csv('intro2ai/iris.csv')\n"
      ],
      "execution_count": null,
      "outputs": []
    },
    {
      "cell_type": "code",
      "metadata": {
        "id": "kmgtvsJgZzh0",
        "colab_type": "code",
        "colab": {}
      },
      "source": [
        "# Break dataset into input & output\n",
        "X = df.values[:, :-1]\n",
        "y = df.values[:, -1]\n"
      ],
      "execution_count": null,
      "outputs": []
    },
    {
      "cell_type": "code",
      "metadata": {
        "id": "rIfLm4sVZzh3",
        "colab_type": "code",
        "colab": {}
      },
      "source": [
        "# Split data into training and test sets\n",
        "X_train, X_test, y_train, y_test = split(X, y, test_size=0.25, random_state=41)\n",
        "print(f'X_train size: {X_train.shape}, X_test size: {X_test.shape}')"
      ],
      "execution_count": null,
      "outputs": []
    },
    {
      "cell_type": "code",
      "metadata": {
        "id": "5A1AIcw9Zzh5",
        "colab_type": "code",
        "colab": {}
      },
      "source": [
        "# Train a k-nearest neighbor (knn) classifier with k=3 using the training set\n",
        "knn = KNeighborsClassifier(n_neighbors=3).fit(X_train, y_train)\n",
        "print(knn)"
      ],
      "execution_count": null,
      "outputs": []
    },
    {
      "cell_type": "code",
      "metadata": {
        "id": "emh5aEn9Zzh8",
        "colab_type": "code",
        "colab": {}
      },
      "source": [
        "# Evaluate the performance of the trained model using the test set\n",
        "print(f'Accuracy: {knn.score(X_test, y_test) * 100}%')"
      ],
      "execution_count": null,
      "outputs": []
    },
    {
      "cell_type": "code",
      "metadata": {
        "id": "sCDkeJYRZzh_",
        "colab_type": "code",
        "colab": {}
      },
      "source": [
        "# Make prediction on one of the test images using knn\n",
        "n = 11\n",
        "print(f'Predicted: {knn.predict([X_test[n]])}')\n",
        "print(f'Actual: {y_test[n]}')"
      ],
      "execution_count": null,
      "outputs": []
    },
    {
      "cell_type": "code",
      "metadata": {
        "id": "MwsebzjYZziC",
        "colab_type": "code",
        "colab": {}
      },
      "source": [
        "# Train and evaluate a decision tree classifier\n",
        "# Please fill in the missing Python codes\n"
      ],
      "execution_count": null,
      "outputs": []
    },
    {
      "cell_type": "code",
      "metadata": {
        "id": "A-JeWgAZZziE",
        "colab_type": "code",
        "colab": {}
      },
      "source": [
        "# Make prediction on one of the test images using decision tree classifier\n",
        "# Please fill in the missing Python codes\n"
      ],
      "execution_count": null,
      "outputs": []
    }
  ]
}