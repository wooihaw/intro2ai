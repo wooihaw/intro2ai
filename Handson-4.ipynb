{
 "cells": [
  {
   "cell_type": "code",
   "execution_count": 1,
   "metadata": {},
   "outputs": [],
   "source": [
    "%matplotlib inline"
   ]
  },
  {
   "cell_type": "code",
   "execution_count": 2,
   "metadata": {},
   "outputs": [],
   "source": [
    "import tensorflow as tf\n",
    "import matplotlib.pyplot as plt\n",
    "import numpy as tf"
   ]
  },
  {
   "cell_type": "code",
   "execution_count": 3,
   "metadata": {},
   "outputs": [],
   "source": [
    "mnist = tf.keras.datasets.mnist\n",
    "\n",
    "(training_images, training_labels), (test_images, test_labels) = mnist.load_data()"
   ]
  },
  {
   "cell_type": "code",
   "execution_count": 6,
   "metadata": {},
   "outputs": [],
   "source": [
    "training_images=training_images.reshape(60000, 28, 28, 1)\n",
    "training_images=training_images / 255.0\n",
    "test_images = test_images.reshape(10000, 28, 28, 1)\n",
    "test_images = test_images / 255.0\n",
    "model = tf.keras.models.Sequential([\n",
    "            tf.keras.layers.Conv2D(64, (5,5), activation='relu', input_shape=(28, 28, 1)),\n",
    "            tf.keras.layers.MaxPooling2D(2, 2),\n",
    "            tf.keras.layers.Flatten(),\n",
    "            tf.keras.layers.Dense(128, activation='relu'),\n",
    "            tf.keras.layers.Dense(10, activation='softmax')\n",
    "])"
   ]
  },
  {
   "cell_type": "code",
   "execution_count": 7,
   "metadata": {},
   "outputs": [
    {
     "name": "stdout",
     "output_type": "stream",
     "text": [
      "Train on 60000 samples\n",
      "Epoch 1/10\n",
      "60000/60000 [==============================] - 11s 181us/sample - loss: 0.1409 - accuracy: 0.9580\n",
      "Epoch 2/10\n",
      "60000/60000 [==============================] - 9s 148us/sample - loss: 0.0446 - accuracy: 0.9862\n",
      "Epoch 3/10\n",
      "60000/60000 [==============================] - 9s 148us/sample - loss: 0.0292 - accuracy: 0.9906\n",
      "Epoch 4/10\n",
      "60000/60000 [==============================] - 9s 149us/sample - loss: 0.0199 - accuracy: 0.9936\n",
      "Epoch 5/10\n",
      "60000/60000 [==============================] - 9s 148us/sample - loss: 0.0147 - accuracy: 0.9952\n",
      "Epoch 6/10\n",
      "60000/60000 [==============================] - 9s 148us/sample - loss: 0.0108 - accuracy: 0.9964\n",
      "Epoch 7/10\n",
      "60000/60000 [==============================] - 9s 148us/sample - loss: 0.0078 - accuracy: 0.9973\n",
      "Epoch 8/10\n",
      "60000/60000 [==============================] - 9s 155us/sample - loss: 0.0079 - accuracy: 0.9973\n",
      "Epoch 9/10\n",
      "60000/60000 [==============================] - 10s 169us/sample - loss: 0.0068 - accuracy: 0.9977\n",
      "Epoch 10/10\n",
      "60000/60000 [==============================] - 10s 169us/sample - loss: 0.0042 - accuracy: 0.9986\n"
     ]
    }
   ],
   "source": [
    "model.compile(optimizer='adam', loss='sparse_categorical_crossentropy', metrics=['accuracy'])\n",
    "# model fitting\n",
    "history = model.fit(training_images, training_labels, epochs=10, batch_size=64)"
   ]
  },
  {
   "cell_type": "code",
   "execution_count": 8,
   "metadata": {},
   "outputs": [
    {
     "name": "stdout",
     "output_type": "stream",
     "text": [
      "10000/10000 [==============================] - 2s 167us/sample - loss: 0.0425 - accuracy: 0.9897\n"
     ]
    }
   ],
   "source": [
    "score = model.evaluate(test_images, test_labels)"
   ]
  },
  {
   "cell_type": "code",
   "execution_count": 9,
   "metadata": {},
   "outputs": [
    {
     "name": "stdout",
     "output_type": "stream",
     "text": [
      "Loss: 0.0425, accuracy: 0.9897\n"
     ]
    }
   ],
   "source": [
    "print(f'Loss: {score[0]:.4f}, accuracy: {score[1]:.4f}')"
   ]
  },
  {
   "cell_type": "code",
   "execution_count": 15,
   "metadata": {},
   "outputs": [
    {
     "name": "stdout",
     "output_type": "stream",
     "text": [
      "Predicted as 7\n"
     ]
    }
   ],
   "source": [
    "n = 911\n",
    "x = np.expand_dims(test_images[n], axis=0)\n",
    "classes = model.predict(x)\n",
    "print(f'Predicted as {classes.argmax()}')"
   ]
  },
  {
   "cell_type": "code",
   "execution_count": 16,
   "metadata": {},
   "outputs": [
    {
     "data": {
      "text/plain": [
       "<matplotlib.image.AxesImage at 0x1d4c215e048>"
      ]
     },
     "execution_count": 16,
     "metadata": {},
     "output_type": "execute_result"
    },
    {
     "data": {
      "image/png": "[encoded data removed]",
      "text/plain": [
       "<Figure size 432x288 with 1 Axes>"
      ]
     },
     "metadata": {
      "needs_background": "light"
     },
     "output_type": "display_data"
    }
   ],
   "source": [
    "plt.axis(False)\n",
    "plt.title(test_labels[n])\n",
    "plt.imshow(test_images[n].reshape(28, 28) * 255, cmap='gray')"
   ]
  }
 ],
 "metadata": {
  "kernelspec": {
   "display_name": "Python 3",
   "language": "python",
   "name": "python3"
  },
  "language_info": {
   "codemirror_mode": {
    "name": "ipython",
    "version": 3
   },
   "file_extension": ".py",
   "mimetype": "text/x-python",
   "name": "python",
   "nbconvert_exporter": "python",
   "pygments_lexer": "ipython3",
   "version": "3.7.7"
  }
 },
 "nbformat": 4,
 "nbformat_minor": 4
}
