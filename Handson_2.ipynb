{
 "cells": [
  {
   "cell_type": "markdown",
   "metadata": {
    "colab_type": "text",
    "id": "view-in-github"
   },
   "source": [
    "<a href=\"https://colab.research.google.com/github/wooihaw/intro2ai/blob/master/Handson_2.ipynb\" target=\"_parent\"><img src=\"https://colab.research.google.com/assets/colab-badge.svg\" alt=\"Open In Colab\"/></a>"
   ]
  },
  {
   "cell_type": "markdown",
   "metadata": {
    "colab_type": "text",
    "id": "s5xsekbbbUF_"
   },
   "source": [
    "## In this exercise, we are going to create a machine learning model (k-nearest neighbor) to predict the gender based on the height and weight"
   ]
  },
  {
   "cell_type": "code",
   "execution_count": null,
   "metadata": {
    "colab": {},
    "colab_type": "code",
    "id": "X3VcbxIZbUGA"
   },
   "outputs": [],
   "source": [
    "%matplotlib inline"
   ]
  },
  {
   "cell_type": "code",
   "execution_count": null,
   "metadata": {
    "colab": {},
    "colab_type": "code",
    "id": "UjDYu4V5bUGD"
   },
   "outputs": [],
   "source": [
    "# Import the relevant Python modules\n",
    "from pandas import read_excel\n",
    "from sklearn.neighbors import KNeighborsClassifier\n",
    "from sklearn.tree import DecisionTreeClassifier\n",
    "from sklearn.model_selection import train_test_split as split\n",
    "import matplotlib.pyplot as plt"
   ]
  },
  {
   "cell_type": "code",
   "execution_count": null,
   "metadata": {
    "colab": {},
    "colab_type": "code",
    "id": "9uxsU_DebXCc"
   },
   "outputs": [],
   "source": [
    "# Download dataset\n",
    "!wget https://raw.githubusercontent.com/wooihaw/datasets/main/heights_weights_genders.xlsx"
   ]
  },
  {
   "cell_type": "code",
   "execution_count": null,
   "metadata": {
    "colab": {},
    "colab_type": "code",
    "id": "betlOYTWbUGG"
   },
   "outputs": [],
   "source": [
    "# Load the dataset\n",
    "df = read_excel('heights_weights_genders.xlsx', engine='openpyxl')\n"
   ]
  },
  {
   "cell_type": "code",
   "execution_count": null,
   "metadata": {
    "colab": {},
    "colab_type": "code",
    "id": "9Sx0G9wDbUGI"
   },
   "outputs": [],
   "source": [
    "# Break dataset into input (height & weight) & output (gender)\n",
    "X = df.values[:, :-1]\n",
    "y = df.values[:, -1]"
   ]
  },
  {
   "cell_type": "code",
   "execution_count": null,
   "metadata": {
    "colab": {},
    "colab_type": "code",
    "id": "rdXepUntbUGL"
   },
   "outputs": [],
   "source": [
    "# Show the distribution of the data (blue -> female, red -> male)\n",
    "g = y == 'Male'\n",
    "plt.scatter(X[:, 0], X[:, 1], c=g, alpha=0.3, cmap='rainbow')\n",
    "plt.title('Height & weight for different genders')\n",
    "plt.xlabel('Height')\n",
    "plt.ylabel('Weight')\n",
    "plt.show()"
   ]
  },
  {
   "cell_type": "code",
   "execution_count": null,
   "metadata": {
    "colab": {},
    "colab_type": "code",
    "id": "VPK6fHS8bUGN"
   },
   "outputs": [],
   "source": [
    "# Split data into training and test sets\n",
    "# Please fill in the missing Python codes\n"
   ]
  },
  {
   "cell_type": "code",
   "execution_count": null,
   "metadata": {
    "colab": {},
    "colab_type": "code",
    "id": "uJCAQtwQbUGP"
   },
   "outputs": [],
   "source": [
    "# Train a knn classifier using the training set\n",
    "# Please fill in the missing Python codes\n"
   ]
  },
  {
   "cell_type": "code",
   "execution_count": null,
   "metadata": {
    "colab": {},
    "colab_type": "code",
    "id": "C1S_gxJUbUGS"
   },
   "outputs": [],
   "source": [
    "# Evaluate the performance of the trained model using the test set\n",
    "# Please fill in the missing Python codes\n"
   ]
  },
  {
   "cell_type": "code",
   "execution_count": null,
   "metadata": {
    "colab": {},
    "colab_type": "code",
    "id": "tSxdbYh9bUGU"
   },
   "outputs": [],
   "source": [
    "# Predict the gender based on the weight(kg) and height(cm)\n",
    "h = eval(input('Please enter your height in cm: '))\n",
    "w = eval(input('Please enter your weight in kg: '))\n",
    "print(f'Your gender is {knn.predict([[h, w]])}')"
   ]
  }
 ],
 "metadata": {
  "colab": {
   "collapsed_sections": [],
   "include_colab_link": true,
   "name": "Handson-2.ipynb",
   "provenance": []
  },
  "kernelspec": {
   "display_name": "Python 3",
   "language": "python",
   "name": "python3"
  },
  "language_info": {
   "codemirror_mode": {
    "name": "ipython",
    "version": 3
   },
   "file_extension": ".py",
   "mimetype": "text/x-python",
   "name": "python",
   "nbconvert_exporter": "python",
   "pygments_lexer": "ipython3",
   "version": "3.8.5"
  }
 },
 "nbformat": 4,
 "nbformat_minor": 1
}
