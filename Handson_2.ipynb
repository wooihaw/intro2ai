{
  "nbformat": 4,
  "nbformat_minor": 0,
  "metadata": {
    "kernelspec": {
      "display_name": "Python 3",
      "language": "python",
      "name": "python3"
    },
    "language_info": {
      "codemirror_mode": {
        "name": "ipython",
        "version": 3
      },
      "file_extension": ".py",
      "mimetype": "text/x-python",
      "name": "python",
      "nbconvert_exporter": "python",
      "pygments_lexer": "ipython3",
      "version": "3.7.7"
    },
    "colab": {
      "name": "Handson-2.ipynb",
      "provenance": [],
      "collapsed_sections": [],
      "include_colab_link": true
    }
  },
  "cells": [
    {
      "cell_type": "markdown",
      "metadata": {
        "id": "view-in-github",
        "colab_type": "text"
      },
      "source": [
        "<a href=\"https://colab.research.google.com/github/wooihaw/intro2ai/blob/master/Handson_2.ipynb\" target=\"_parent\"><img src=\"https://colab.research.google.com/assets/colab-badge.svg\" alt=\"Open In Colab\"/></a>"
      ]
    },
    {
      "cell_type": "markdown",
      "metadata": {
        "id": "s5xsekbbbUF_",
        "colab_type": "text"
      },
      "source": [
        "## In this exercise, we are going to create a machine learning model (k-nearest neighbor) to predict the gender based on the height and weight"
      ]
    },
    {
      "cell_type": "code",
      "metadata": {
        "id": "X3VcbxIZbUGA",
        "colab_type": "code",
        "colab": {}
      },
      "source": [
        "%matplotlib inline"
      ],
      "execution_count": null,
      "outputs": []
    },
    {
      "cell_type": "code",
      "metadata": {
        "id": "UjDYu4V5bUGD",
        "colab_type": "code",
        "colab": {}
      },
      "source": [
        "# Import the relevant Python modules\n",
        "from pandas import read_excel\n",
        "from sklearn.neighbors import KNeighborsClassifier\n",
        "from sklearn.tree import DecisionTreeClassifier\n",
        "from sklearn.model_selection import train_test_split as split\n",
        "import matplotlib.pyplot as plt"
      ],
      "execution_count": null,
      "outputs": []
    },
    {
      "cell_type": "code",
      "metadata": {
        "id": "9uxsU_DebXCc",
        "colab_type": "code",
        "colab": {}
      },
      "source": [
        "!git clone https://github.com/wooihaw/intro2ai.git"
      ],
      "execution_count": null,
      "outputs": []
    },
    {
      "cell_type": "code",
      "metadata": {
        "id": "betlOYTWbUGG",
        "colab_type": "code",
        "colab": {}
      },
      "source": [
        "# Load the dataset\n",
        "df = read_excel('intro2ai/heights_weights_genders.xlsx')\n"
      ],
      "execution_count": null,
      "outputs": []
    },
    {
      "cell_type": "code",
      "metadata": {
        "id": "9Sx0G9wDbUGI",
        "colab_type": "code",
        "colab": {}
      },
      "source": [
        "# Break dataset into input (height & weight) & output (gender)\n",
        "X = df.values[:, :-1]\n",
        "y = df.values[:, -1]"
      ],
      "execution_count": null,
      "outputs": []
    },
    {
      "cell_type": "code",
      "metadata": {
        "id": "rdXepUntbUGL",
        "colab_type": "code",
        "colab": {}
      },
      "source": [
        "# Show the distribution of the data (blue -> male, red -> female)\n",
        "g = [0 if i == 'Male' else 1 for i in y]\n",
        "plt.scatter(X[:, 0], X[:, 1], c=g, alpha=0.3, cmap='rainbow')\n",
        "plt.title('Height & weight for different genders')\n",
        "plt.xlabel('Height')\n",
        "plt.ylabel('Weight')\n",
        "plt.show()"
      ],
      "execution_count": null,
      "outputs": []
    },
    {
      "cell_type": "code",
      "metadata": {
        "id": "VPK6fHS8bUGN",
        "colab_type": "code",
        "colab": {}
      },
      "source": [
        "# Split data into training and test sets\n",
        "# Please fill in the missing Python codes\n"
      ],
      "execution_count": null,
      "outputs": []
    },
    {
      "cell_type": "code",
      "metadata": {
        "id": "uJCAQtwQbUGP",
        "colab_type": "code",
        "colab": {}
      },
      "source": [
        "# Train a knn classifier using the training set\n",
        "# Please fill in the missing Python codes\n"
      ],
      "execution_count": null,
      "outputs": []
    },
    {
      "cell_type": "code",
      "metadata": {
        "id": "C1S_gxJUbUGS",
        "colab_type": "code",
        "colab": {}
      },
      "source": [
        "# Evaluate the performance of the trained model using the test set\n",
        "# Please fill in the missing Python codes\n"
      ],
      "execution_count": null,
      "outputs": []
    },
    {
      "cell_type": "code",
      "metadata": {
        "id": "tSxdbYh9bUGU",
        "colab_type": "code",
        "colab": {}
      },
      "source": [
        "# Predict the gender based on the weight(kg) and height(cm)\n",
        "h = eval(input('Please enter your height in cm: '))\n",
        "w = eval(input('Please enter your height in kg: '))\n",
        "print(f'Your gender is {knn.predict([[h, w]])}')"
      ],
      "execution_count": null,
      "outputs": []
    }
  ]
}