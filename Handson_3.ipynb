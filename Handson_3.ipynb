{
  "nbformat": 4,
  "nbformat_minor": 0,
  "metadata": {
    "kernelspec": {
      "display_name": "Python 3",
      "language": "python",
      "name": "python3"
    },
    "language_info": {
      "codemirror_mode": {
        "name": "ipython",
        "version": 3
      },
      "file_extension": ".py",
      "mimetype": "text/x-python",
      "name": "python",
      "nbconvert_exporter": "python",
      "pygments_lexer": "ipython3",
      "version": "3.7.7"
    },
    "colab": {
      "name": "Handson-3.ipynb",
      "provenance": [],
      "collapsed_sections": [],
      "include_colab_link": true
    }
  },
  "cells": [
    {
      "cell_type": "markdown",
      "metadata": {
        "id": "view-in-github",
        "colab_type": "text"
      },
      "source": [
        "<a href=\"https://colab.research.google.com/github/wooihaw/intro2ai/blob/master/Handson_3.ipynb\" target=\"_parent\"><img src=\"https://colab.research.google.com/assets/colab-badge.svg\" alt=\"Open In Colab\"/></a>"
      ]
    },
    {
      "cell_type": "markdown",
      "metadata": {
        "id": "GMN263MhcoVl",
        "colab_type": "text"
      },
      "source": [
        "## This is an exercise to create a machine learning model (linear regression) to predict the weight based on the height"
      ]
    },
    {
      "cell_type": "code",
      "metadata": {
        "id": "4-wuC31ocoVm",
        "colab_type": "code",
        "colab": {}
      },
      "source": [
        "%matplotlib inline"
      ],
      "execution_count": null,
      "outputs": []
    },
    {
      "cell_type": "code",
      "metadata": {
        "id": "n6C9y7pscoVr",
        "colab_type": "code",
        "colab": {}
      },
      "source": [
        "# Import the relevant Python modules\n",
        "from pandas import read_excel\n",
        "from sklearn.linear_model import LinearRegression\n",
        "from sklearn.model_selection import train_test_split as split\n",
        "import matplotlib.pyplot as plt"
      ],
      "execution_count": null,
      "outputs": []
    },
    {
      "cell_type": "code",
      "metadata": {
        "id": "llXkYU6Wcqey",
        "colab_type": "code",
        "colab": {}
      },
      "source": [
        "!git clone https://github.com/wooihaw/intro2ai.git"
      ],
      "execution_count": null,
      "outputs": []
    },
    {
      "cell_type": "code",
      "metadata": {
        "id": "zP4q9juicoVu",
        "colab_type": "code",
        "colab": {}
      },
      "source": [
        "# Load the dataset\n",
        "df = read_excel('intro2ai/heights_weights_genders.xlsx')\n"
      ],
      "execution_count": null,
      "outputs": []
    },
    {
      "cell_type": "code",
      "metadata": {
        "id": "aNxXs5eEcoV0",
        "colab_type": "code",
        "colab": {}
      },
      "source": [
        "# Break dataset into input (height) & output (weight)\n",
        "X = df.values[:, 0].reshape(-1, 1)\n",
        "y = df.values[:, 1]"
      ],
      "execution_count": null,
      "outputs": []
    },
    {
      "cell_type": "code",
      "metadata": {
        "id": "gsNg0uQocoV2",
        "colab_type": "code",
        "colab": {}
      },
      "source": [
        "# Split data into training and test sets\n",
        "# Please fill in the missing Python codes\n"
      ],
      "execution_count": null,
      "outputs": []
    },
    {
      "cell_type": "code",
      "metadata": {
        "id": "I_keV21_coV5",
        "colab_type": "code",
        "colab": {}
      },
      "source": [
        "# Train a linear regression model using the training set\n",
        "lr = LinearRegression().fit(X_train, y_train)"
      ],
      "execution_count": null,
      "outputs": []
    },
    {
      "cell_type": "code",
      "metadata": {
        "id": "8fOhQgDgcoV8",
        "colab_type": "code",
        "colab": {}
      },
      "source": [
        "# Evaluate the performance of the trained model using the test set\n",
        "# Please fill in the missing Python codes\n"
      ],
      "execution_count": null,
      "outputs": []
    },
    {
      "cell_type": "code",
      "metadata": {
        "id": "UOtwaQ1ncoV_",
        "colab_type": "code",
        "colab": {}
      },
      "source": [
        "# Predict the weight(kg) based on the height(cm)\n",
        "h = eval(input('Please enter your height in cm: '))\n",
        "print(f'Your weight is {lr.predict([[h]])}kg')"
      ],
      "execution_count": null,
      "outputs": []
    }
  ]
}