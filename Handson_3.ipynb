{
 "cells": [
  {
   "cell_type": "markdown",
   "metadata": {
    "colab_type": "text",
    "id": "view-in-github"
   },
   "source": [
    "<a href=\"https://colab.research.google.com/github/wooihaw/intro2ai/blob/master/Handson_3.ipynb\" target=\"_parent\"><img src=\"https://colab.research.google.com/assets/colab-badge.svg\" alt=\"Open In Colab\"/></a>"
   ]
  },
  {
   "cell_type": "markdown",
   "metadata": {
    "colab_type": "text",
    "id": "GMN263MhcoVl"
   },
   "source": [
    "## This is an exercise to create a machine learning model (linear regression) to predict the weight based on the height"
   ]
  },
  {
   "cell_type": "code",
   "execution_count": null,
   "metadata": {
    "colab": {},
    "colab_type": "code",
    "id": "4-wuC31ocoVm"
   },
   "outputs": [],
   "source": [
    "%matplotlib inline"
   ]
  },
  {
   "cell_type": "code",
   "execution_count": null,
   "metadata": {
    "colab": {},
    "colab_type": "code",
    "id": "n6C9y7pscoVr"
   },
   "outputs": [],
   "source": [
    "# Import the relevant Python modules\n",
    "import pandas as pd\n",
    "from sklearn.linear_model import LinearRegression\n",
    "from sklearn.model_selection import train_test_split as split\n",
    "import matplotlib.pyplot as plt"
   ]
  },
  {
   "cell_type": "code",
   "execution_count": null,
   "metadata": {
    "colab": {},
    "colab_type": "code",
    "id": "llXkYU6Wcqey"
   },
   "outputs": [],
   "source": [
    "# Download dataset\n",
    "!wget https://raw.githubusercontent.com/wooihaw/datasets/main/heights_weights_genders.xlsx"
   ]
  },
  {
   "cell_type": "code",
   "execution_count": null,
   "metadata": {
    "colab": {},
    "colab_type": "code",
    "id": "zP4q9juicoVu"
   },
   "outputs": [],
   "source": [
    "# Load the dataset\n",
    "df = pd.read_excel('heights_weights_genders.xlsx', engine='openpyxl')\n",
    "df.head()"
   ]
  },
  {
   "cell_type": "code",
   "execution_count": null,
   "metadata": {},
   "outputs": [],
   "source": [
    "# One-hot encoding for nominal categorical data\n",
    "df = pd.get_dummies(df, drop_first=True)\n",
    "df.head()"
   ]
  },
  {
   "cell_type": "code",
   "execution_count": null,
   "metadata": {
    "colab": {},
    "colab_type": "code",
    "id": "aNxXs5eEcoV0"
   },
   "outputs": [],
   "source": [
    "# Break dataset into input (height, gender) & output (weight)\n",
    "X = df.iloc[:, [0, 2]]\n",
    "y = df.values[:, 1]"
   ]
  },
  {
   "cell_type": "code",
   "execution_count": null,
   "metadata": {
    "colab": {},
    "colab_type": "code",
    "id": "gsNg0uQocoV2"
   },
   "outputs": [],
   "source": [
    "# Split data into training and test sets\n",
    "# Please fill in the missing Python codes\n"
   ]
  },
  {
   "cell_type": "code",
   "execution_count": null,
   "metadata": {
    "colab": {},
    "colab_type": "code",
    "id": "I_keV21_coV5"
   },
   "outputs": [],
   "source": [
    "# Train a linear regression model using the training set\n",
    "lr = LinearRegression().fit(X_train, y_train)"
   ]
  },
  {
   "cell_type": "code",
   "execution_count": null,
   "metadata": {
    "colab": {},
    "colab_type": "code",
    "id": "8fOhQgDgcoV8"
   },
   "outputs": [],
   "source": [
    "# Evaluate the performance of the trained model using the test set\n",
    "# Please fill in the missing Python codes\n"
   ]
  },
  {
   "cell_type": "code",
   "execution_count": null,
   "metadata": {
    "colab": {},
    "colab_type": "code",
    "id": "UOtwaQ1ncoV_"
   },
   "outputs": [],
   "source": [
    "# Predict the weight(kg) based on the height(cm)\n",
    "h = eval(input('Please enter your height in cm: '))\n",
    "g = eval(input('Please enter your gender (0 for female, 1 for male):'))\n",
    "print(f'Your weight is {lr.predict([[h, g]])}kg')"
   ]
  },
  {
   "cell_type": "code",
   "execution_count": null,
   "metadata": {},
   "outputs": [],
   "source": []
  }
 ],
 "metadata": {
  "colab": {
   "collapsed_sections": [],
   "include_colab_link": true,
   "name": "Handson-3.ipynb",
   "provenance": []
  },
  "kernelspec": {
   "display_name": "Python 3",
   "language": "python",
   "name": "python3"
  },
  "language_info": {
   "codemirror_mode": {
    "name": "ipython",
    "version": 3
   },
   "file_extension": ".py",
   "mimetype": "text/x-python",
   "name": "python",
   "nbconvert_exporter": "python",
   "pygments_lexer": "ipython3",
   "version": "3.8.5"
  }
 },
 "nbformat": 4,
 "nbformat_minor": 1
}
