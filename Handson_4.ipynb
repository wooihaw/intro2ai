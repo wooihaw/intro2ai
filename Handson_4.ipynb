{
 "cells": [
  {
   "cell_type": "markdown",
   "metadata": {
    "colab_type": "text",
    "id": "view-in-github"
   },
   "source": [
    "<a href=\"https://colab.research.google.com/github/wooihaw/intro2ai/blob/master/Handson_4.ipynb\" target=\"_parent\"><img src=\"https://colab.research.google.com/assets/colab-badge.svg\" alt=\"Open In Colab\"/></a>"
   ]
  },
  {
   "cell_type": "markdown",
   "metadata": {
    "colab_type": "text",
    "id": "kgNfx3iadQFS"
   },
   "source": [
    "## This is a 'Hello World\" example for convolutional neural network (CNN)\n",
    "### In this example, we will build and train a CNN to classify images of handwritten digit\n",
    "<img src=\"http://neupy.com/_images/random-digits.png\" alt=\"MNIST\" width=\"640\">"
   ]
  },
  {
   "cell_type": "code",
   "execution_count": null,
   "metadata": {
    "colab": {},
    "colab_type": "code",
    "id": "gVpSCPsAdQFU"
   },
   "outputs": [],
   "source": [
    "%matplotlib inline"
   ]
  },
  {
   "cell_type": "code",
   "execution_count": null,
   "metadata": {
    "colab": {},
    "colab_type": "code",
    "id": "s01IhO36dQFX"
   },
   "outputs": [],
   "source": [
    "# Import the relevant Python modules\n",
    "import tensorflow as tf\n",
    "import matplotlib.pyplot as plt\n",
    "import numpy as np"
   ]
  },
  {
   "cell_type": "code",
   "execution_count": null,
   "metadata": {
    "colab": {},
    "colab_type": "code",
    "id": "TLoOm1kIdQFa"
   },
   "outputs": [],
   "source": [
    "# Load the dataset\n",
    "mnist = tf.keras.datasets.mnist\n",
    "\n",
    "# Split data into training and test sets\n",
    "(training_images, training_labels), (test_images, test_labels) = mnist.load_data()"
   ]
  },
  {
   "cell_type": "code",
   "execution_count": null,
   "metadata": {
    "colab": {},
    "colab_type": "code",
    "id": "Ts2DQHTedQFc"
   },
   "outputs": [],
   "source": [
    "# Display an handwritten digit in the training set (change m to display another digit)\n",
    "m = 111\n",
    "plt.axis(False)\n",
    "plt.title(f'Label: {training_labels[m]}')\n",
    "plt.imshow(training_images[m], cmap='gray')\n",
    "plt.show()"
   ]
  },
  {
   "cell_type": "code",
   "execution_count": null,
   "metadata": {
    "colab": {},
    "colab_type": "code",
    "id": "WvK9E8g8dQFf"
   },
   "outputs": [],
   "source": [
    "# Preprocessing the data\n",
    "training_images=training_images.reshape(60000, 28, 28, 1)\n",
    "training_images=training_images / 255.0\n",
    "test_images = test_images.reshape(10000, 28, 28, 1)\n",
    "test_images = test_images / 255.0\n",
    "\n",
    "# Define the model\n",
    "model = tf.keras.models.Sequential([\n",
    "            tf.keras.layers.Conv2D(64, (5,5), activation='relu', input_shape=(28, 28, 1)),\n",
    "            tf.keras.layers.MaxPooling2D(2, 2),\n",
    "            tf.keras.layers.Flatten(),\n",
    "            tf.keras.layers.Dense(128, activation='relu'),\n",
    "            tf.keras.layers.Dense(10, activation='softmax')\n",
    "])"
   ]
  },
  {
   "cell_type": "code",
   "execution_count": null,
   "metadata": {
    "colab": {},
    "colab_type": "code",
    "id": "oO9S1j3GdQFh"
   },
   "outputs": [],
   "source": [
    "# Compile the model\n",
    "model.compile(optimizer='adam', loss='sparse_categorical_crossentropy', metrics=['accuracy'])\n",
    "\n",
    "# model fitting (train the model using the training set)\n",
    "history = model.fit(training_images, training_labels, epochs=10, batch_size=64)"
   ]
  },
  {
   "cell_type": "code",
   "execution_count": null,
   "metadata": {
    "colab": {},
    "colab_type": "code",
    "id": "Sym6ovwhdQFk"
   },
   "outputs": [],
   "source": [
    "# Plot the performance of the model\n",
    "plt.plot(history.history['accuracy'], 'b', label='train')\n",
    "plt.xlabel('Epoch')\n",
    "plt.ylabel('Accuracy')\n",
    "plt.title('Model Accuracy')\n",
    "plt.legend(loc='best')\n",
    "plt.show()"
   ]
  },
  {
   "cell_type": "code",
   "execution_count": null,
   "metadata": {
    "colab": {},
    "colab_type": "code",
    "id": "milwYyHEdQFm"
   },
   "outputs": [],
   "source": [
    "# Evaluate the performance of the trained model using the test set\n",
    "score = model.evaluate(test_images, test_labels)\n",
    "print(f'Loss: {score[0]:.4f}, accuracy: {score[1]:.4f}')"
   ]
  },
  {
   "cell_type": "code",
   "execution_count": null,
   "metadata": {
    "colab": {},
    "colab_type": "code",
    "id": "eBBLiS7tdQFp"
   },
   "outputs": [],
   "source": [
    "# Predict the label of a test image (change n to test another image)\n",
    "n = 911\n",
    "x = np.expand_dims(test_images[n], axis=0)\n",
    "classes = model.predict(x)\n",
    "print(f'Predicted label: {classes.argmax()}')\n",
    "\n",
    "# Display the test image and show the actual label\n",
    "plt.axis(False)\n",
    "plt.title(f'Actual label: {test_labels[n]}')\n",
    "plt.imshow(test_images[n].reshape(28, 28) * 255, cmap='gray')\n",
    "plt.show()"
   ]
  }
 ],
 "metadata": {
  "accelerator": "GPU",
  "colab": {
   "collapsed_sections": [],
   "include_colab_link": true,
   "name": "Handson-4.ipynb",
   "provenance": []
  },
  "kernelspec": {
   "display_name": "Python 3",
   "language": "python",
   "name": "python3"
  },
  "language_info": {
   "codemirror_mode": {
    "name": "ipython",
    "version": 3
   },
   "file_extension": ".py",
   "mimetype": "text/x-python",
   "name": "python",
   "nbconvert_exporter": "python",
   "pygments_lexer": "ipython3",
   "version": "3.8.5"
  }
 },
 "nbformat": 4,
 "nbformat_minor": 1
}
