{
  "nbformat": 4,
  "nbformat_minor": 0,
  "metadata": {
    "kernelspec": {
      "display_name": "Python 3",
      "language": "python",
      "name": "python3"
    },
    "language_info": {
      "codemirror_mode": {
        "name": "ipython",
        "version": 3
      },
      "file_extension": ".py",
      "mimetype": "text/x-python",
      "name": "python",
      "nbconvert_exporter": "python",
      "pygments_lexer": "ipython3",
      "version": "3.7.7"
    },
    "colab": {
      "name": "Handson-4.ipynb",
      "provenance": [],
      "include_colab_link": true
    }
  },
  "cells": [
    {
      "cell_type": "markdown",
      "metadata": {
        "id": "view-in-github",
        "colab_type": "text"
      },
      "source": [
        "<a href=\"https://colab.research.google.com/github/wooihaw/intro2ai/blob/master/Handson_4.ipynb\" target=\"_parent\"><img src=\"https://colab.research.google.com/assets/colab-badge.svg\" alt=\"Open In Colab\"/></a>"
      ]
    },
    {
      "cell_type": "code",
      "metadata": {
        "id": "U5_uoug8XPNX",
        "colab_type": "code",
        "colab": {}
      },
      "source": [
        "%matplotlib inline"
      ],
      "execution_count": 0,
      "outputs": []
    },
    {
      "cell_type": "code",
      "metadata": {
        "id": "9r7EkfSuXPNb",
        "colab_type": "code",
        "colab": {}
      },
      "source": [
        "import tensorflow as tf\n",
        "import matplotlib.pyplot as plt\n",
        "import numpy as tf"
      ],
      "execution_count": 0,
      "outputs": []
    },
    {
      "cell_type": "code",
      "metadata": {
        "id": "_eC0brGPXPNe",
        "colab_type": "code",
        "colab": {}
      },
      "source": [
        "mnist = tf.keras.datasets.mnist\n",
        "\n",
        "(training_images, training_labels), (test_images, test_labels) = mnist.load_data()"
      ],
      "execution_count": 0,
      "outputs": []
    },
    {
      "cell_type": "code",
      "metadata": {
        "id": "2qh33SERXPNh",
        "colab_type": "code",
        "colab": {}
      },
      "source": [
        "training_images=training_images.reshape(60000, 28, 28, 1)\n",
        "training_images=training_images / 255.0\n",
        "test_images = test_images.reshape(10000, 28, 28, 1)\n",
        "test_images = test_images / 255.0\n",
        "model = tf.keras.models.Sequential([\n",
        "            tf.keras.layers.Conv2D(64, (5,5), activation='relu', input_shape=(28, 28, 1)),\n",
        "            tf.keras.layers.MaxPooling2D(2, 2),\n",
        "            tf.keras.layers.Flatten(),\n",
        "            tf.keras.layers.Dense(128, activation='relu'),\n",
        "            tf.keras.layers.Dense(10, activation='softmax')\n",
        "])"
      ],
      "execution_count": 0,
      "outputs": []
    },
    {
      "cell_type": "code",
      "metadata": {
        "id": "-jHj5WeGXPNj",
        "colab_type": "code",
        "colab": {},
        "outputId": "6c4f827c-3f00-4bd6-8dcf-d5a516cf4037"
      },
      "source": [
        "model.compile(optimizer='adam', loss='sparse_categorical_crossentropy', metrics=['accuracy'])\n",
        "# model fitting\n",
        "history = model.fit(training_images, training_labels, epochs=10, batch_size=64)"
      ],
      "execution_count": 0,
      "outputs": [
        {
          "output_type": "stream",
          "text": [
            "Train on 60000 samples\n",
            "Epoch 1/10\n",
            "60000/60000 [==============================] - 11s 181us/sample - loss: 0.1409 - accuracy: 0.9580\n",
            "Epoch 2/10\n",
            "60000/60000 [==============================] - 9s 148us/sample - loss: 0.0446 - accuracy: 0.9862\n",
            "Epoch 3/10\n",
            "60000/60000 [==============================] - 9s 148us/sample - loss: 0.0292 - accuracy: 0.9906\n",
            "Epoch 4/10\n",
            "60000/60000 [==============================] - 9s 149us/sample - loss: 0.0199 - accuracy: 0.9936\n",
            "Epoch 5/10\n",
            "60000/60000 [==============================] - 9s 148us/sample - loss: 0.0147 - accuracy: 0.9952\n",
            "Epoch 6/10\n",
            "60000/60000 [==============================] - 9s 148us/sample - loss: 0.0108 - accuracy: 0.9964\n",
            "Epoch 7/10\n",
            "60000/60000 [==============================] - 9s 148us/sample - loss: 0.0078 - accuracy: 0.9973\n",
            "Epoch 8/10\n",
            "60000/60000 [==============================] - 9s 155us/sample - loss: 0.0079 - accuracy: 0.9973\n",
            "Epoch 9/10\n",
            "60000/60000 [==============================] - 10s 169us/sample - loss: 0.0068 - accuracy: 0.9977\n",
            "Epoch 10/10\n",
            "60000/60000 [==============================] - 10s 169us/sample - loss: 0.0042 - accuracy: 0.9986\n"
          ],
          "name": "stdout"
        }
      ]
    },
    {
      "cell_type": "code",
      "metadata": {
        "id": "rHoSdlJAXPNn",
        "colab_type": "code",
        "colab": {},
        "outputId": "615fc642-d87a-4411-a61f-ff6d1869939b"
      },
      "source": [
        "score = model.evaluate(test_images, test_labels)"
      ],
      "execution_count": 0,
      "outputs": [
        {
          "output_type": "stream",
          "text": [
            "10000/10000 [==============================] - 2s 167us/sample - loss: 0.0425 - accuracy: 0.9897\n"
          ],
          "name": "stdout"
        }
      ]
    },
    {
      "cell_type": "code",
      "metadata": {
        "id": "GKfrUW9hXPNp",
        "colab_type": "code",
        "colab": {},
        "outputId": "dedc8e60-c7be-4aef-a72f-59e6ac71af21"
      },
      "source": [
        "print(f'Loss: {score[0]:.4f}, accuracy: {score[1]:.4f}')"
      ],
      "execution_count": 0,
      "outputs": [
        {
          "output_type": "stream",
          "text": [
            "Loss: 0.0425, accuracy: 0.9897\n"
          ],
          "name": "stdout"
        }
      ]
    },
    {
      "cell_type": "code",
      "metadata": {
        "id": "RhmkNtOvXPNs",
        "colab_type": "code",
        "colab": {},
        "outputId": "0a62096c-82be-4de9-c033-9b183dc0e0b5"
      },
      "source": [
        "n = 911\n",
        "x = np.expand_dims(test_images[n], axis=0)\n",
        "classes = model.predict(x)\n",
        "print(f'Predicted as {classes.argmax()}')"
      ],
      "execution_count": 0,
      "outputs": [
        {
          "output_type": "stream",
          "text": [
            "Predicted as 7\n"
          ],
          "name": "stdout"
        }
      ]
    },
    {
      "cell_type": "code",
      "metadata": {
        "id": "f_9xp_bEXPNv",
        "colab_type": "code",
        "colab": {},
        "outputId": "84cdfc2e-8323-452c-f4af-cd10ee30bb3b"
      },
      "source": [
        "plt.axis(False)\n",
        "plt.title(test_labels[n])\n",
        "plt.imshow(test_images[n].reshape(28, 28) * 255, cmap='gray')"
      ],
      "execution_count": 0,
      "outputs": [
        {
          "output_type": "execute_result",
          "data": {
            "text/plain": [
              "<matplotlib.image.AxesImage at 0x1d4c215e048>"
            ]
          },
          "metadata": {
            "tags": []
          },
          "execution_count": 16
        },
        {
          "output_type": "display_data",
          "data": {
            "image/png": "[encoded data removed]",
            "text/plain": [
              "<Figure size 432x288 with 1 Axes>"
            ]
          },
          "metadata": {
            "tags": [],
            "needs_background": "light"
          }
        }
      ]
    }
  ]
}